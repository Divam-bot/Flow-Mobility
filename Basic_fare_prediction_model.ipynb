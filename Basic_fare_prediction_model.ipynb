{
  "nbformat": 4,
  "nbformat_minor": 0,
  "metadata": {
    "colab": {
      "name": "Basic_fare_prediction_model.ipynb",
      "provenance": [],
      "collapsed_sections": [],
      "authorship_tag": "ABX9TyOHDjfvESGX2M6GBw+BH8C1",
      "include_colab_link": true
    },
    "kernelspec": {
      "name": "python3",
      "display_name": "Python 3"
    }
  },
  "cells": [
    {
      "cell_type": "markdown",
      "metadata": {
        "id": "view-in-github",
        "colab_type": "text"
      },
      "source": [
        "<a href=\"https://colab.research.google.com/github/Divam-bot/Flow-Mobility/blob/main/Basic_fare_prediction_model.ipynb\" target=\"_parent\"><img src=\"https://colab.research.google.com/assets/colab-badge.svg\" alt=\"Open In Colab\"/></a>"
      ]
    },
    {
      "cell_type": "code",
      "metadata": {
        "id": "S_OUoNx-FmcQ"
      },
      "source": [
        "import pandas as pd\r\n",
        "import datetime\r\n",
        "import matplotlib.pyplot as plt\r\n"
      ],
      "execution_count": 1,
      "outputs": []
    },
    {
      "cell_type": "code",
      "metadata": {
        "colab": {
          "base_uri": "https://localhost:8080/",
          "height": 195
        },
        "id": "cNGknptTHia5",
        "outputId": "0d2d05c0-b3ab-4a34-e97e-2a60dfc57e28"
      },
      "source": [
        "dataset = pd.read_excel(\"/content/fare_data_2.xlsx\")\r\n",
        "dataset.head()"
      ],
      "execution_count": 2,
      "outputs": [
        {
          "output_type": "execute_result",
          "data": {
            "text/html": [
              "<div>\n",
              "<style scoped>\n",
              "    .dataframe tbody tr th:only-of-type {\n",
              "        vertical-align: middle;\n",
              "    }\n",
              "\n",
              "    .dataframe tbody tr th {\n",
              "        vertical-align: top;\n",
              "    }\n",
              "\n",
              "    .dataframe thead th {\n",
              "        text-align: right;\n",
              "    }\n",
              "</style>\n",
              "<table border=\"1\" class=\"dataframe\">\n",
              "  <thead>\n",
              "    <tr style=\"text-align: right;\">\n",
              "      <th></th>\n",
              "      <th>date</th>\n",
              "      <th>fare</th>\n",
              "    </tr>\n",
              "  </thead>\n",
              "  <tbody>\n",
              "    <tr>\n",
              "      <th>0</th>\n",
              "      <td>1990-01-01</td>\n",
              "      <td>678</td>\n",
              "    </tr>\n",
              "    <tr>\n",
              "      <th>1</th>\n",
              "      <td>1990-01-02</td>\n",
              "      <td>809</td>\n",
              "    </tr>\n",
              "    <tr>\n",
              "      <th>2</th>\n",
              "      <td>1990-01-03</td>\n",
              "      <td>744</td>\n",
              "    </tr>\n",
              "    <tr>\n",
              "      <th>3</th>\n",
              "      <td>1990-01-04</td>\n",
              "      <td>795</td>\n",
              "    </tr>\n",
              "    <tr>\n",
              "      <th>4</th>\n",
              "      <td>1990-01-05</td>\n",
              "      <td>755</td>\n",
              "    </tr>\n",
              "  </tbody>\n",
              "</table>\n",
              "</div>"
            ],
            "text/plain": [
              "        date  fare\n",
              "0 1990-01-01   678\n",
              "1 1990-01-02   809\n",
              "2 1990-01-03   744\n",
              "3 1990-01-04   795\n",
              "4 1990-01-05   755"
            ]
          },
          "metadata": {
            "tags": []
          },
          "execution_count": 2
        }
      ]
    },
    {
      "cell_type": "code",
      "metadata": {
        "colab": {
          "base_uri": "https://localhost:8080/"
        },
        "id": "onG4nKXEI2J0",
        "outputId": "cf8595de-8052-442c-e828-69980ed04e93"
      },
      "source": [
        "dataset.info()"
      ],
      "execution_count": 3,
      "outputs": [
        {
          "output_type": "stream",
          "text": [
            "<class 'pandas.core.frame.DataFrame'>\n",
            "RangeIndex: 10999 entries, 0 to 10998\n",
            "Data columns (total 2 columns):\n",
            " #   Column  Non-Null Count  Dtype         \n",
            "---  ------  --------------  -----         \n",
            " 0   date    10999 non-null  datetime64[ns]\n",
            " 1   fare    10999 non-null  int64         \n",
            "dtypes: datetime64[ns](1), int64(1)\n",
            "memory usage: 172.0 KB\n"
          ],
          "name": "stdout"
        }
      ]
    },
    {
      "cell_type": "code",
      "metadata": {
        "colab": {
          "base_uri": "https://localhost:8080/",
          "height": 296
        },
        "id": "RamWoEVwJBoR",
        "outputId": "049ce07f-e9f4-49a6-f85c-0428c041ee86"
      },
      "source": [
        "dataset.plot(kind=\"scatter\",x=\"date\",y=\"fare\")"
      ],
      "execution_count": 4,
      "outputs": [
        {
          "output_type": "execute_result",
          "data": {
            "text/plain": [
              "<matplotlib.axes._subplots.AxesSubplot at 0x7fd4dd70f550>"
            ]
          },
          "metadata": {
            "tags": []
          },
          "execution_count": 4
        },
        {
          "output_type": "display_data",
          "data": {
            "image/png": "[encoded data removed]",
            "text/plain": [
              "<Figure size 432x288 with 1 Axes>"
            ]
          },
          "metadata": {
            "tags": [],
            "needs_background": "light"
          }
        }
      ]
    },
    {
      "cell_type": "code",
      "metadata": {
        "id": "ttQpUspTSsx9"
      },
      "source": [
        "dataset['date'] = pd.to_datetime(dataset['date'])\r\n"
      ],
      "execution_count": 5,
      "outputs": []
    },
    {
      "cell_type": "markdown",
      "metadata": {
        "id": "sSZIV-WzYnm5"
      },
      "source": [
        "splitting the date into day,month,year colums further converting date in integers by converting in ordinals and subtracting lowest date ordinal\r\n"
      ]
    },
    {
      "cell_type": "code",
      "metadata": {
        "colab": {
          "base_uri": "https://localhost:8080/",
          "height": 195
        },
        "id": "vf6iunXuUJGC",
        "outputId": "0948a050-6068-4cd3-f2c5-93f322d74903"
      },
      "source": [
        "dataset[\"year\"] = dataset['date'].dt.year\r\n",
        "dataset[\"month\"] = dataset['date'].dt.month\r\n",
        "dataset[\"day\"] = dataset['date'].dt.day\r\n",
        "dataset[\"date_ord\"]=dataset['date'].apply(lambda x: x.toordinal()-726468)\r\n",
        "dataset.head()"
      ],
      "execution_count": 6,
      "outputs": [
        {
          "output_type": "execute_result",
          "data": {
            "text/html": [
              "<div>\n",
              "<style scoped>\n",
              "    .dataframe tbody tr th:only-of-type {\n",
              "        vertical-align: middle;\n",
              "    }\n",
              "\n",
              "    .dataframe tbody tr th {\n",
              "        vertical-align: top;\n",
              "    }\n",
              "\n",
              "    .dataframe thead th {\n",
              "        text-align: right;\n",
              "    }\n",
              "</style>\n",
              "<table border=\"1\" class=\"dataframe\">\n",
              "  <thead>\n",
              "    <tr style=\"text-align: right;\">\n",
              "      <th></th>\n",
              "      <th>date</th>\n",
              "      <th>fare</th>\n",
              "      <th>year</th>\n",
              "      <th>month</th>\n",
              "      <th>day</th>\n",
              "      <th>date_ord</th>\n",
              "    </tr>\n",
              "  </thead>\n",
              "  <tbody>\n",
              "    <tr>\n",
              "      <th>0</th>\n",
              "      <td>1990-01-01</td>\n",
              "      <td>678</td>\n",
              "      <td>1990</td>\n",
              "      <td>1</td>\n",
              "      <td>1</td>\n",
              "      <td>0</td>\n",
              "    </tr>\n",
              "    <tr>\n",
              "      <th>1</th>\n",
              "      <td>1990-01-02</td>\n",
              "      <td>809</td>\n",
              "      <td>1990</td>\n",
              "      <td>1</td>\n",
              "      <td>2</td>\n",
              "      <td>1</td>\n",
              "    </tr>\n",
              "    <tr>\n",
              "      <th>2</th>\n",
              "      <td>1990-01-03</td>\n",
              "      <td>744</td>\n",
              "      <td>1990</td>\n",
              "      <td>1</td>\n",
              "      <td>3</td>\n",
              "      <td>2</td>\n",
              "    </tr>\n",
              "    <tr>\n",
              "      <th>3</th>\n",
              "      <td>1990-01-04</td>\n",
              "      <td>795</td>\n",
              "      <td>1990</td>\n",
              "      <td>1</td>\n",
              "      <td>4</td>\n",
              "      <td>3</td>\n",
              "    </tr>\n",
              "    <tr>\n",
              "      <th>4</th>\n",
              "      <td>1990-01-05</td>\n",
              "      <td>755</td>\n",
              "      <td>1990</td>\n",
              "      <td>1</td>\n",
              "      <td>5</td>\n",
              "      <td>4</td>\n",
              "    </tr>\n",
              "  </tbody>\n",
              "</table>\n",
              "</div>"
            ],
            "text/plain": [
              "        date  fare  year  month  day  date_ord\n",
              "0 1990-01-01   678  1990      1    1         0\n",
              "1 1990-01-02   809  1990      1    2         1\n",
              "2 1990-01-03   744  1990      1    3         2\n",
              "3 1990-01-04   795  1990      1    4         3\n",
              "4 1990-01-05   755  1990      1    5         4"
            ]
          },
          "metadata": {
            "tags": []
          },
          "execution_count": 6
        }
      ]
    },
    {
      "cell_type": "code",
      "metadata": {
        "colab": {
          "base_uri": "https://localhost:8080/"
        },
        "id": "b59qBZliZ8oZ",
        "outputId": "fa1ffd40-5c7e-4407-cc9c-c1ba9f624c96"
      },
      "source": [
        "x = dataset.iloc[:,5]\r\n",
        "x.head()"
      ],
      "execution_count": 7,
      "outputs": [
        {
          "output_type": "execute_result",
          "data": {
            "text/plain": [
              "0    0\n",
              "1    1\n",
              "2    2\n",
              "3    3\n",
              "4    4\n",
              "Name: date_ord, dtype: int64"
            ]
          },
          "metadata": {
            "tags": []
          },
          "execution_count": 7
        }
      ]
    },
    {
      "cell_type": "code",
      "metadata": {
        "colab": {
          "base_uri": "https://localhost:8080/"
        },
        "id": "zkyD_7ZjaZu8",
        "outputId": "b51d447a-c08f-4bcf-b432-78d8a2458d6b"
      },
      "source": [
        "y = dataset.iloc[:,1]\r\n",
        "y.head()"
      ],
      "execution_count": 8,
      "outputs": [
        {
          "output_type": "execute_result",
          "data": {
            "text/plain": [
              "0    678\n",
              "1    809\n",
              "2    744\n",
              "3    795\n",
              "4    755\n",
              "Name: fare, dtype: int64"
            ]
          },
          "metadata": {
            "tags": []
          },
          "execution_count": 8
        }
      ]
    },
    {
      "cell_type": "markdown",
      "metadata": {
        "id": "1Sm0yA5_ZCLe"
      },
      "source": [
        "Let's Observe date_ord versus fare graph"
      ]
    },
    {
      "cell_type": "code",
      "metadata": {
        "colab": {
          "base_uri": "https://localhost:8080/",
          "height": 296
        },
        "id": "C2UteylxZMmM",
        "outputId": "108a1439-b4e7-492b-f740-4b4304ab0f36"
      },
      "source": [
        "plt.scatter(x,y)\r\n",
        "plt.xlabel(\"Day\")\r\n",
        "plt.ylabel(\"Fare\")\r\n",
        "plt.xlim(0,10)"
      ],
      "execution_count": 9,
      "outputs": [
        {
          "output_type": "execute_result",
          "data": {
            "text/plain": [
              "(0.0, 10.0)"
            ]
          },
          "metadata": {
            "tags": []
          },
          "execution_count": 9
        },
        {
          "output_type": "display_data",
          "data": {
            "image/png": "[encoded data removed]",
            "text/plain": [
              "<Figure size 432x288 with 1 Axes>"
            ]
          },
          "metadata": {
            "tags": [],
            "needs_background": "light"
          }
        }
      ]
    },
    {
      "cell_type": "markdown",
      "metadata": {
        "id": "DMvBULoUYAqD"
      },
      "source": [
        "Before Training the model lets split this data set into 70:20:10 split of train validate test sets.\r\n",
        "\r\n",
        "for that first divide set into 70:30 and then rem. 30 in 20 and 10\r\n"
      ]
    },
    {
      "cell_type": "code",
      "metadata": {
        "colab": {
          "base_uri": "https://localhost:8080/"
        },
        "id": "26iTOM-dX-sv",
        "outputId": "3363d364-a000-431c-80ae-a14925c9e6e1"
      },
      "source": [
        "from sklearn.model_selection import train_test_split\r\n",
        "x_train, x_temp, y_train, y_temp = train_test_split(x.values, y.values, test_size = 0.3, random_state = 0)\r\n",
        "\r\n",
        "x_valid, x_test, y_valid, y_test = train_test_split(x_temp, y_temp, test_size = 0.333, random_state = 0)\r\n",
        "x_train.shape"
      ],
      "execution_count": 23,
      "outputs": [
        {
          "output_type": "execute_result",
          "data": {
            "text/plain": [
              "(7699,)"
            ]
          },
          "metadata": {
            "tags": []
          },
          "execution_count": 23
        }
      ]
    },
    {
      "cell_type": "code",
      "metadata": {
        "colab": {
          "base_uri": "https://localhost:8080/",
          "height": 35
        },
        "id": "RCXjZiGUhd1I",
        "outputId": "81023333-faf0-4a50-bf13-dd94d6ba84d0"
      },
      "source": [
        "'''\r\n",
        "x_train = x_train[:10]\r\n",
        "y_train = y_train[:10]\r\n",
        "x_valid = x_valid[11:21]\r\n",
        "y_valid = y_valid[11:21]\r\n",
        "'''"
      ],
      "execution_count": 24,
      "outputs": [
        {
          "output_type": "execute_result",
          "data": {
            "application/vnd.google.colaboratory.intrinsic+json": {
              "type": "string"
            },
            "text/plain": [
              "'\\nx_train = x_train[:10]\\ny_train = y_train[:10]\\nx_valid = x_valid[11:21]\\ny_valid = y_valid[11:21]\\n'"
            ]
          },
          "metadata": {
            "tags": []
          },
          "execution_count": 24
        }
      ]
    },
    {
      "cell_type": "markdown",
      "metadata": {
        "id": "4CxZ6geBbqHf"
      },
      "source": [
        "Checking the info of our newly splitted sets."
      ]
    },
    {
      "cell_type": "code",
      "metadata": {
        "colab": {
          "base_uri": "https://localhost:8080/"
        },
        "id": "k0s1Da4TbxnR",
        "outputId": "89e3a7a4-e0a8-4609-a903-4c92fc2dc91b"
      },
      "source": [
        "print(x_train.shape,\r\n",
        "x_valid.shape,\r\n",
        "x_test.shape,\r\n",
        "\r\n",
        "y_train.shape,\r\n",
        "y_valid.shape,\r\n",
        "y_test.shape)"
      ],
      "execution_count": 37,
      "outputs": [
        {
          "output_type": "stream",
          "text": [
            "(7699, 1) (2201, 1) (1099,) (7699, 1) (2201,) (1099, 1)\n"
          ],
          "name": "stdout"
        }
      ]
    },
    {
      "cell_type": "markdown",
      "metadata": {
        "id": "J3ESFf0fdDVT"
      },
      "source": [
        "Training a simple linear regression model on this dataset."
      ]
    },
    {
      "cell_type": "code",
      "metadata": {
        "id": "D1TSy6bHUUPU"
      },
      "source": [
        "from sklearn.linear_model import LinearRegression\r\n",
        "reg = LinearRegression()"
      ],
      "execution_count": 38,
      "outputs": []
    },
    {
      "cell_type": "markdown",
      "metadata": {
        "id": "xpXkK1zIdZBB"
      },
      "source": [
        "before fitting we need to convert our 1d data array into 2d as sklearn standards.\r\n"
      ]
    },
    {
      "cell_type": "code",
      "metadata": {
        "colab": {
          "base_uri": "https://localhost:8080/"
        },
        "id": "dDtaHx6idkG-",
        "outputId": "583f80be-397a-4ed9-aa25-289b7173b8cc"
      },
      "source": [
        "x_train = x_train.reshape(-1,1)\r\n",
        "y_train = y_train.reshape(-1,1)\r\n",
        "y_test = y_test.reshape(-1,1)\r\n",
        "x_valid = x_valid.reshape(-1,1)\r\n",
        "\r\n",
        "x_train.shape"
      ],
      "execution_count": 39,
      "outputs": [
        {
          "output_type": "execute_result",
          "data": {
            "text/plain": [
              "(7699, 1)"
            ]
          },
          "metadata": {
            "tags": []
          },
          "execution_count": 39
        }
      ]
    },
    {
      "cell_type": "code",
      "metadata": {
        "colab": {
          "base_uri": "https://localhost:8080/"
        },
        "id": "vVgA63StXx9q",
        "outputId": "3f7e2b73-103d-486e-e494-571971f66c48"
      },
      "source": [
        "reg.fit(x_train,y_train)\r\n"
      ],
      "execution_count": 40,
      "outputs": [
        {
          "output_type": "execute_result",
          "data": {
            "text/plain": [
              "LinearRegression(copy_X=True, fit_intercept=True, n_jobs=None, normalize=False)"
            ]
          },
          "metadata": {
            "tags": []
          },
          "execution_count": 40
        }
      ]
    },
    {
      "cell_type": "code",
      "metadata": {
        "colab": {
          "base_uri": "https://localhost:8080/"
        },
        "id": "4eVBxmQ-croN",
        "outputId": "ea16c893-6ffe-4535-947d-5e5ab87ddc38"
      },
      "source": [
        "\r\n",
        "y_pred = reg.predict(x_valid)\r\n",
        "print(y_pred,x_valid)"
      ],
      "execution_count": 51,
      "outputs": [
        {
          "output_type": "stream",
          "text": [
            "[[748.23363455]\n",
            " [747.53968627]\n",
            " [747.88004864]\n",
            " ...\n",
            " [747.39566469]\n",
            " [746.97883577]\n",
            " [747.95119702]] [[9042]\n",
            " [4214]\n",
            " [6582]\n",
            " ...\n",
            " [3212]\n",
            " [ 312]\n",
            " [7077]]\n"
          ],
          "name": "stdout"
        }
      ]
    },
    {
      "cell_type": "code",
      "metadata": {
        "colab": {
          "base_uri": "https://localhost:8080/",
          "height": 296
        },
        "id": "JgjxV5Vhef69",
        "outputId": "47d33b47-4397-4f2e-c42e-5bf7520d9fe9"
      },
      "source": [
        "plt.scatter(x_valid,y_valid)\r\n",
        "plt.plot(x_valid,y_pred,'r')\r\n",
        "plt.xlabel(\"day\")\r\n",
        "plt.ylabel(\"fare\")\r\n",
        "#plt.xlim(7700,7710)"
      ],
      "execution_count": 52,
      "outputs": [
        {
          "output_type": "execute_result",
          "data": {
            "text/plain": [
              "Text(0, 0.5, 'fare')"
            ]
          },
          "metadata": {
            "tags": []
          },
          "execution_count": 52
        },
        {
          "output_type": "display_data",
          "data": {
            "image/png": "[encoded data removed]",
            "text/plain": [
              "<Figure size 432x288 with 1 Axes>"
            ]
          },
          "metadata": {
            "tags": [],
            "needs_background": "light"
          }
        }
      ]
    },
    {
      "cell_type": "markdown",
      "metadata": {
        "id": "lLH-8CbaX6YJ"
      },
      "source": [
        "Lets try and build logistic regression model on the same data.\r\n"
      ]
    },
    {
      "cell_type": "code",
      "metadata": {
        "id": "YYsCIvtSgieZ"
      },
      "source": [
        "from sklearn.linear_model import LogisticRegression"
      ],
      "execution_count": 44,
      "outputs": []
    },
    {
      "cell_type": "code",
      "metadata": {
        "id": "jk6d79B3YtJh"
      },
      "source": [
        "logreg = LogisticRegression()"
      ],
      "execution_count": 45,
      "outputs": []
    },
    {
      "cell_type": "code",
      "metadata": {
        "id": "FhfJwrYAY6xc",
        "outputId": "95b4e612-8d16-4965-d6db-48d61edaa2cc",
        "colab": {
          "base_uri": "https://localhost:8080/"
        }
      },
      "source": [
        "logreg.fit(x_train,y_train)"
      ],
      "execution_count": 46,
      "outputs": [
        {
          "output_type": "stream",
          "text": [
            "/usr/local/lib/python3.6/dist-packages/sklearn/utils/validation.py:760: DataConversionWarning: A column-vector y was passed when a 1d array was expected. Please change the shape of y to (n_samples, ), for example using ravel().\n",
            "  y = column_or_1d(y, warn=True)\n"
          ],
          "name": "stderr"
        },
        {
          "output_type": "execute_result",
          "data": {
            "text/plain": [
              "LogisticRegression(C=1.0, class_weight=None, dual=False, fit_intercept=True,\n",
              "                   intercept_scaling=1, l1_ratio=None, max_iter=100,\n",
              "                   multi_class='auto', n_jobs=None, penalty='l2',\n",
              "                   random_state=None, solver='lbfgs', tol=0.0001, verbose=0,\n",
              "                   warm_start=False)"
            ]
          },
          "metadata": {
            "tags": []
          },
          "execution_count": 46
        }
      ]
    },
    {
      "cell_type": "code",
      "metadata": {
        "id": "te1PtXteZDT-",
        "outputId": "c754da71-3a5a-469b-f919-8975ade44a87",
        "colab": {
          "base_uri": "https://localhost:8080/"
        }
      },
      "source": [
        "y_pred = logreg.predict(x_valid)\r\n",
        "print(y_pred,x_valid)"
      ],
      "execution_count": 47,
      "outputs": [
        {
          "output_type": "stream",
          "text": [
            "[621 621 621 ... 621 621 621] [[9042]\n",
            " [4214]\n",
            " [6582]\n",
            " ...\n",
            " [3212]\n",
            " [ 312]\n",
            " [7077]]\n"
          ],
          "name": "stdout"
        }
      ]
    },
    {
      "cell_type": "code",
      "metadata": {
        "id": "l7Off7qyZXjy",
        "outputId": "72729c33-2c9c-42da-aa29-6b27493162e6",
        "colab": {
          "base_uri": "https://localhost:8080/",
          "height": 296
        }
      },
      "source": [
        "plt.scatter(x_valid,y_valid)\r\n",
        "plt.plot(x_valid,y_pred,'r')\r\n",
        "plt.xlabel(\"day\")\r\n",
        "plt.ylabel(\"fare\")\r\n",
        "#plt.xlim(7700,7710)"
      ],
      "execution_count": 48,
      "outputs": [
        {
          "output_type": "execute_result",
          "data": {
            "text/plain": [
              "Text(0, 0.5, 'fare')"
            ]
          },
          "metadata": {
            "tags": []
          },
          "execution_count": 48
        },
        {
          "output_type": "display_data",
          "data": {
            "image/png": "[encoded data removed]",
            "text/plain": [
              "<Figure size 432x288 with 1 Axes>"
            ]
          },
          "metadata": {
            "tags": [],
            "needs_background": "light"
          }
        }
      ]
    },
    {
      "cell_type": "markdown",
      "metadata": {
        "id": "F6K2lt0rbAGi"
      },
      "source": [
        "Lets check accuracy of the model\r\n"
      ]
    },
    {
      "cell_type": "code",
      "metadata": {
        "id": "jPyBuXiTbHP8",
        "outputId": "f6549e63-bac8-4380-dc18-6612b0ea8ad6",
        "colab": {
          "base_uri": "https://localhost:8080/"
        }
      },
      "source": [
        "accuracy_score(y_valid,y_pred)"
      ],
      "execution_count": 49,
      "outputs": [
        {
          "output_type": "execute_result",
          "data": {
            "text/plain": [
              "0.0013630168105406633"
            ]
          },
          "metadata": {
            "tags": []
          },
          "execution_count": 49
        }
      ]
    },
    {
      "cell_type": "code",
      "metadata": {
        "id": "cnKFb-FQd23t"
      },
      "source": [
        ""
      ],
      "execution_count": null,
      "outputs": []
    }
  ]
}