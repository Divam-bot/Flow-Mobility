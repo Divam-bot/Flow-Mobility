{
  "nbformat": 4,
  "nbformat_minor": 0,
  "metadata": {
    "colab": {
      "name": "Untitled4.ipynb",
      "provenance": [],
      "collapsed_sections": [],
      "authorship_tag": "ABX9TyN7woTqmeynikL3gKzmXSTN",
      "include_colab_link": true
    },
    "kernelspec": {
      "name": "python3",
      "display_name": "Python 3"
    }
  },
  "cells": [
    {
      "cell_type": "markdown",
      "metadata": {
        "id": "view-in-github",
        "colab_type": "text"
      },
      "source": [
        "<a href=\"https://colab.research.google.com/github/Divam-bot/Flow-Mobility/blob/main/Basic_Fair_Pred_model.ipynb\" target=\"_parent\"><img src=\"https://colab.research.google.com/assets/colab-badge.svg\" alt=\"Open In Colab\"/></a>"
      ]
    },
    {
      "cell_type": "code",
      "metadata": {
        "id": "kyS6O4naidgL"
      },
      "source": [
        "import pandas as pd\r\n",
        "import numpy as np\r\n",
        "import matplotlib.pyplot as plt\r\n",
        "from datetime import datetime as dt\r\n",
        "%matplotlib inline"
      ],
      "execution_count": 33,
      "outputs": []
    },
    {
      "cell_type": "code",
      "metadata": {
        "colab": {
          "base_uri": "https://localhost:8080/",
          "height": 195
        },
        "id": "U3sCkHIpx7Kg",
        "outputId": "a6d0fd06-70bb-4b0f-d5f8-48c685b1a794"
      },
      "source": [
        "dataset = pd.read_csv(\"/fare_data.csv\")\r\n",
        "dataset.head()"
      ],
      "execution_count": 34,
      "outputs": [
        {
          "output_type": "execute_result",
          "data": {
            "text/html": [
              "<div>\n",
              "<style scoped>\n",
              "    .dataframe tbody tr th:only-of-type {\n",
              "        vertical-align: middle;\n",
              "    }\n",
              "\n",
              "    .dataframe tbody tr th {\n",
              "        vertical-align: top;\n",
              "    }\n",
              "\n",
              "    .dataframe thead th {\n",
              "        text-align: right;\n",
              "    }\n",
              "</style>\n",
              "<table border=\"1\" class=\"dataframe\">\n",
              "  <thead>\n",
              "    <tr style=\"text-align: right;\">\n",
              "      <th></th>\n",
              "      <th>day</th>\n",
              "      <th>fair</th>\n",
              "    </tr>\n",
              "  </thead>\n",
              "  <tbody>\n",
              "    <tr>\n",
              "      <th>0</th>\n",
              "      <td>30-03-2018</td>\n",
              "      <td>94.0</td>\n",
              "    </tr>\n",
              "    <tr>\n",
              "      <th>1</th>\n",
              "      <td>15-05-2020</td>\n",
              "      <td>164.0</td>\n",
              "    </tr>\n",
              "    <tr>\n",
              "      <th>2</th>\n",
              "      <td>15-02-2018</td>\n",
              "      <td>127.0</td>\n",
              "    </tr>\n",
              "    <tr>\n",
              "      <th>3</th>\n",
              "      <td>02-03-2019</td>\n",
              "      <td>290.0</td>\n",
              "    </tr>\n",
              "    <tr>\n",
              "      <th>4</th>\n",
              "      <td>06-03-2020</td>\n",
              "      <td>436.0</td>\n",
              "    </tr>\n",
              "  </tbody>\n",
              "</table>\n",
              "</div>"
            ],
            "text/plain": [
              "          day   fair\n",
              "0  30-03-2018   94.0\n",
              "1  15-05-2020  164.0\n",
              "2  15-02-2018  127.0\n",
              "3  02-03-2019  290.0\n",
              "4  06-03-2020  436.0"
            ]
          },
          "metadata": {
            "tags": []
          },
          "execution_count": 34
        }
      ]
    },
    {
      "cell_type": "code",
      "metadata": {
        "colab": {
          "base_uri": "https://localhost:8080/"
        },
        "id": "2HmJCpdsRejo",
        "outputId": "178c4105-4ec2-4b0e-e1b0-1be2394d99e8"
      },
      "source": [
        "dataset.info()"
      ],
      "execution_count": 35,
      "outputs": [
        {
          "output_type": "stream",
          "text": [
            "<class 'pandas.core.frame.DataFrame'>\n",
            "RangeIndex: 10000 entries, 0 to 9999\n",
            "Data columns (total 2 columns):\n",
            " #   Column  Non-Null Count  Dtype  \n",
            "---  ------  --------------  -----  \n",
            " 0   day     9999 non-null   object \n",
            " 1   fair    9999 non-null   float64\n",
            "dtypes: float64(1), object(1)\n",
            "memory usage: 156.4+ KB\n"
          ],
          "name": "stdout"
        }
      ]
    },
    {
      "cell_type": "code",
      "metadata": {
        "id": "imwTZzzQEAdq"
      },
      "source": [
        "dataset['day'] = pd.to_datetime(dataset['day'])"
      ],
      "execution_count": 36,
      "outputs": []
    },
    {
      "cell_type": "code",
      "metadata": {
        "colab": {
          "base_uri": "https://localhost:8080/"
        },
        "id": "1U0sZyNCPySE",
        "outputId": "5c3fd999-080d-4659-960e-c9467c3d7db8"
      },
      "source": [
        "dataset.info()"
      ],
      "execution_count": 37,
      "outputs": [
        {
          "output_type": "stream",
          "text": [
            "<class 'pandas.core.frame.DataFrame'>\n",
            "RangeIndex: 10000 entries, 0 to 9999\n",
            "Data columns (total 2 columns):\n",
            " #   Column  Non-Null Count  Dtype         \n",
            "---  ------  --------------  -----         \n",
            " 0   day     9999 non-null   datetime64[ns]\n",
            " 1   fair    9999 non-null   float64       \n",
            "dtypes: datetime64[ns](1), float64(1)\n",
            "memory usage: 156.4 KB\n"
          ],
          "name": "stdout"
        }
      ]
    },
    {
      "cell_type": "code",
      "metadata": {
        "id": "0cIBACzwWQTV"
      },
      "source": [
        "dataset=dataset.dropna()"
      ],
      "execution_count": 38,
      "outputs": []
    },
    {
      "cell_type": "code",
      "metadata": {
        "id": "2c5b-xtXEDmm"
      },
      "source": [
        "temp = []\r\n",
        "for i in dataset['day']:\r\n",
        "  \r\n",
        "  temp.append(i.toordinal())\r\n",
        "  \r\n"
      ],
      "execution_count": 39,
      "outputs": []
    },
    {
      "cell_type": "code",
      "metadata": {
        "colab": {
          "base_uri": "https://localhost:8080/",
          "height": 195
        },
        "id": "-_yuYlZxg_yv",
        "outputId": "af46fa8b-6d67-4490-921c-a4c5900e6496"
      },
      "source": [
        "\r\n",
        "dataset['year'] = dataset['day'].dt.year\r\n",
        "dataset['month'] = dataset['day'].dt.month\r\n",
        "dataset['day'] =dataset['day'].dt.day\r\n",
        "dataset['date_ord'] = temp\r\n",
        "\r\n",
        "dataset.head()"
      ],
      "execution_count": 40,
      "outputs": [
        {
          "output_type": "execute_result",
          "data": {
            "text/html": [
              "<div>\n",
              "<style scoped>\n",
              "    .dataframe tbody tr th:only-of-type {\n",
              "        vertical-align: middle;\n",
              "    }\n",
              "\n",
              "    .dataframe tbody tr th {\n",
              "        vertical-align: top;\n",
              "    }\n",
              "\n",
              "    .dataframe thead th {\n",
              "        text-align: right;\n",
              "    }\n",
              "</style>\n",
              "<table border=\"1\" class=\"dataframe\">\n",
              "  <thead>\n",
              "    <tr style=\"text-align: right;\">\n",
              "      <th></th>\n",
              "      <th>day</th>\n",
              "      <th>fair</th>\n",
              "      <th>year</th>\n",
              "      <th>month</th>\n",
              "      <th>date_ord</th>\n",
              "    </tr>\n",
              "  </thead>\n",
              "  <tbody>\n",
              "    <tr>\n",
              "      <th>0</th>\n",
              "      <td>30</td>\n",
              "      <td>94.0</td>\n",
              "      <td>2018</td>\n",
              "      <td>3</td>\n",
              "      <td>736783</td>\n",
              "    </tr>\n",
              "    <tr>\n",
              "      <th>1</th>\n",
              "      <td>15</td>\n",
              "      <td>164.0</td>\n",
              "      <td>2020</td>\n",
              "      <td>5</td>\n",
              "      <td>737560</td>\n",
              "    </tr>\n",
              "    <tr>\n",
              "      <th>2</th>\n",
              "      <td>15</td>\n",
              "      <td>127.0</td>\n",
              "      <td>2018</td>\n",
              "      <td>2</td>\n",
              "      <td>736740</td>\n",
              "    </tr>\n",
              "    <tr>\n",
              "      <th>3</th>\n",
              "      <td>3</td>\n",
              "      <td>290.0</td>\n",
              "      <td>2019</td>\n",
              "      <td>2</td>\n",
              "      <td>737093</td>\n",
              "    </tr>\n",
              "    <tr>\n",
              "      <th>4</th>\n",
              "      <td>3</td>\n",
              "      <td>436.0</td>\n",
              "      <td>2020</td>\n",
              "      <td>6</td>\n",
              "      <td>737579</td>\n",
              "    </tr>\n",
              "  </tbody>\n",
              "</table>\n",
              "</div>"
            ],
            "text/plain": [
              "   day   fair  year  month  date_ord\n",
              "0   30   94.0  2018      3    736783\n",
              "1   15  164.0  2020      5    737560\n",
              "2   15  127.0  2018      2    736740\n",
              "3    3  290.0  2019      2    737093\n",
              "4    3  436.0  2020      6    737579"
            ]
          },
          "metadata": {
            "tags": []
          },
          "execution_count": 40
        }
      ]
    },
    {
      "cell_type": "code",
      "metadata": {
        "colab": {
          "base_uri": "https://localhost:8080/"
        },
        "id": "oPvQC91QjKHh",
        "outputId": "14499c3c-18df-4d54-d3a5-d8a073d17d2b"
      },
      "source": [
        "dataset.info()"
      ],
      "execution_count": 41,
      "outputs": [
        {
          "output_type": "stream",
          "text": [
            "<class 'pandas.core.frame.DataFrame'>\n",
            "Int64Index: 9999 entries, 0 to 9998\n",
            "Data columns (total 5 columns):\n",
            " #   Column    Non-Null Count  Dtype  \n",
            "---  ------    --------------  -----  \n",
            " 0   day       9999 non-null   int64  \n",
            " 1   fair      9999 non-null   float64\n",
            " 2   year      9999 non-null   int64  \n",
            " 3   month     9999 non-null   int64  \n",
            " 4   date_ord  9999 non-null   int64  \n",
            "dtypes: float64(1), int64(4)\n",
            "memory usage: 468.7 KB\n"
          ],
          "name": "stdout"
        }
      ]
    },
    {
      "cell_type": "code",
      "metadata": {
        "colab": {
          "base_uri": "https://localhost:8080/",
          "height": 195
        },
        "id": "MxHrtciKyWqx",
        "outputId": "fe8437cc-a63e-41d4-af45-575bb2f367a4"
      },
      "source": [
        "x=dataset.iloc[:500,[4]]\r\n",
        "x.head()#x=10"
      ],
      "execution_count": 52,
      "outputs": [
        {
          "output_type": "execute_result",
          "data": {
            "text/html": [
              "<div>\n",
              "<style scoped>\n",
              "    .dataframe tbody tr th:only-of-type {\n",
              "        vertical-align: middle;\n",
              "    }\n",
              "\n",
              "    .dataframe tbody tr th {\n",
              "        vertical-align: top;\n",
              "    }\n",
              "\n",
              "    .dataframe thead th {\n",
              "        text-align: right;\n",
              "    }\n",
              "</style>\n",
              "<table border=\"1\" class=\"dataframe\">\n",
              "  <thead>\n",
              "    <tr style=\"text-align: right;\">\n",
              "      <th></th>\n",
              "      <th>date_ord</th>\n",
              "    </tr>\n",
              "  </thead>\n",
              "  <tbody>\n",
              "    <tr>\n",
              "      <th>0</th>\n",
              "      <td>736783</td>\n",
              "    </tr>\n",
              "    <tr>\n",
              "      <th>1</th>\n",
              "      <td>737560</td>\n",
              "    </tr>\n",
              "    <tr>\n",
              "      <th>2</th>\n",
              "      <td>736740</td>\n",
              "    </tr>\n",
              "    <tr>\n",
              "      <th>3</th>\n",
              "      <td>737093</td>\n",
              "    </tr>\n",
              "    <tr>\n",
              "      <th>4</th>\n",
              "      <td>737579</td>\n",
              "    </tr>\n",
              "  </tbody>\n",
              "</table>\n",
              "</div>"
            ],
            "text/plain": [
              "   date_ord\n",
              "0    736783\n",
              "1    737560\n",
              "2    736740\n",
              "3    737093\n",
              "4    737579"
            ]
          },
          "metadata": {
            "tags": []
          },
          "execution_count": 52
        }
      ]
    },
    {
      "cell_type": "code",
      "metadata": {
        "colab": {
          "base_uri": "https://localhost:8080/"
        },
        "id": "6CN9TdQBiTFI",
        "outputId": "676be196-7943-4d2c-8fae-eac615b3b2a1"
      },
      "source": [
        "y=dataset.iloc[:500,1]\r\n",
        "y.head()\r\n"
      ],
      "execution_count": 53,
      "outputs": [
        {
          "output_type": "execute_result",
          "data": {
            "text/plain": [
              "0     94.0\n",
              "1    164.0\n",
              "2    127.0\n",
              "3    290.0\n",
              "4    436.0\n",
              "Name: fair, dtype: float64"
            ]
          },
          "metadata": {
            "tags": []
          },
          "execution_count": 53
        }
      ]
    },
    {
      "cell_type": "code",
      "metadata": {
        "colab": {
          "base_uri": "https://localhost:8080/",
          "height": 296
        },
        "id": "MHsWzKxXNyTj",
        "outputId": "e01316ce-15ca-4bb6-d049-4e46532a867f"
      },
      "source": [
        "plt.scatter(x,y)\r\n",
        "plt.xlabel(\"day(X)\")\r\n",
        "plt.ylabel(\"Fare earnings(y)\")\r\n",
        "#plt."
      ],
      "execution_count": 54,
      "outputs": [
        {
          "output_type": "execute_result",
          "data": {
            "text/plain": [
              "Text(0, 0.5, 'Fare earnings(y)')"
            ]
          },
          "metadata": {
            "tags": []
          },
          "execution_count": 54
        },
        {
          "output_type": "display_data",
          "data": {
            "image/png": "[encoded data removed]",
            "text/plain": [
              "<Figure size 432x288 with 1 Axes>"
            ]
          },
          "metadata": {
            "tags": [],
            "needs_background": "light"
          }
        }
      ]
    },
    {
      "cell_type": "code",
      "metadata": {
        "id": "h_4ekJaBqdQu"
      },
      "source": [
        "from sklearn.model_selection import train_test_split\r\n",
        "x_train, x_test, y_train, y_test = train_test_split(x.values, y.values, test_size = 0.2, random_state = 0)"
      ],
      "execution_count": 55,
      "outputs": []
    },
    {
      "cell_type": "code",
      "metadata": {
        "colab": {
          "base_uri": "https://localhost:8080/"
        },
        "id": "sHPrwz__rbw4",
        "outputId": "ced0486a-838f-4ad1-b67c-55c8a7bb062b"
      },
      "source": [
        "x_train[:]"
      ],
      "execution_count": 56,
      "outputs": [
        {
          "output_type": "execute_result",
          "data": {
            "text/plain": [
              "array([[736710],\n",
              "       [737684],\n",
              "       [737114],\n",
              "       [736741],\n",
              "       [736789],\n",
              "       [737230],\n",
              "       [737089],\n",
              "       [737715],\n",
              "       [737526],\n",
              "       [736725],\n",
              "       [736971],\n",
              "       [737277],\n",
              "       [737480],\n",
              "       [737452],\n",
              "       [737583],\n",
              "       [737267],\n",
              "       [737351],\n",
              "       [736713],\n",
              "       [736997],\n",
              "       [736737],\n",
              "       [737763],\n",
              "       [737561],\n",
              "       [736940],\n",
              "       [737781],\n",
              "       [737105],\n",
              "       [737561],\n",
              "       [736919],\n",
              "       [737503],\n",
              "       [736727],\n",
              "       [736721],\n",
              "       [736860],\n",
              "       [737018],\n",
              "       [737518],\n",
              "       [737635],\n",
              "       [736984],\n",
              "       [737413],\n",
              "       [737486],\n",
              "       [736789],\n",
              "       [736842],\n",
              "       [737151],\n",
              "       [736997],\n",
              "       [737639],\n",
              "       [736856],\n",
              "       [737578],\n",
              "       [737677],\n",
              "       [737579],\n",
              "       [737009],\n",
              "       [737342],\n",
              "       [737594],\n",
              "       [737182],\n",
              "       [737265],\n",
              "       [737441],\n",
              "       [737350],\n",
              "       [737662],\n",
              "       [737232],\n",
              "       [737547],\n",
              "       [737550],\n",
              "       [737376],\n",
              "       [736796],\n",
              "       [737162],\n",
              "       [737016],\n",
              "       [736943],\n",
              "       [737125],\n",
              "       [737113],\n",
              "       [736729],\n",
              "       [737001],\n",
              "       [737401],\n",
              "       [737493],\n",
              "       [737576],\n",
              "       [737786],\n",
              "       [737573],\n",
              "       [737042],\n",
              "       [737632],\n",
              "       [737542],\n",
              "       [736849],\n",
              "       [736716],\n",
              "       [737498],\n",
              "       [737711],\n",
              "       [736930],\n",
              "       [736966],\n",
              "       [737694],\n",
              "       [737133],\n",
              "       [737733],\n",
              "       [737076],\n",
              "       [736888],\n",
              "       [736903],\n",
              "       [737021],\n",
              "       [737378],\n",
              "       [737439],\n",
              "       [737662],\n",
              "       [737702],\n",
              "       [737437],\n",
              "       [737010],\n",
              "       [737107],\n",
              "       [737071],\n",
              "       [737415],\n",
              "       [737223],\n",
              "       [736893],\n",
              "       [737567],\n",
              "       [737329],\n",
              "       [736759],\n",
              "       [736919],\n",
              "       [737256],\n",
              "       [737587],\n",
              "       [736716],\n",
              "       [737558],\n",
              "       [736985],\n",
              "       [737231],\n",
              "       [737353],\n",
              "       [737524],\n",
              "       [737572],\n",
              "       [737012],\n",
              "       [736829],\n",
              "       [736732],\n",
              "       [736740],\n",
              "       [737279],\n",
              "       [736977],\n",
              "       [737486],\n",
              "       [737747],\n",
              "       [737544],\n",
              "       [737669],\n",
              "       [737650],\n",
              "       [737246],\n",
              "       [737273],\n",
              "       [737247],\n",
              "       [737508],\n",
              "       [736845],\n",
              "       [737346],\n",
              "       [737409],\n",
              "       [737453],\n",
              "       [736986],\n",
              "       [737311],\n",
              "       [737322],\n",
              "       [737548],\n",
              "       [737734],\n",
              "       [737448],\n",
              "       [736709],\n",
              "       [737402],\n",
              "       [737703],\n",
              "       [737307],\n",
              "       [736740],\n",
              "       [737327],\n",
              "       [737535],\n",
              "       [736816],\n",
              "       [737695],\n",
              "       [736737],\n",
              "       [737457],\n",
              "       [737264],\n",
              "       [736935],\n",
              "       [737545],\n",
              "       [737665],\n",
              "       [737752],\n",
              "       [737393],\n",
              "       [736967],\n",
              "       [737731],\n",
              "       [737239],\n",
              "       [737104],\n",
              "       [737160],\n",
              "       [737483],\n",
              "       [737640],\n",
              "       [736837],\n",
              "       [737366],\n",
              "       [737044],\n",
              "       [736987],\n",
              "       [737044],\n",
              "       [736958],\n",
              "       [737507],\n",
              "       [737096],\n",
              "       [737721],\n",
              "       [737023],\n",
              "       [736863],\n",
              "       [737276],\n",
              "       [736812],\n",
              "       [737299],\n",
              "       [737751],\n",
              "       [736861],\n",
              "       [737562],\n",
              "       [737674],\n",
              "       [737632],\n",
              "       [737432],\n",
              "       [736929],\n",
              "       [737509],\n",
              "       [736840],\n",
              "       [737389],\n",
              "       [737230],\n",
              "       [737006],\n",
              "       [737687],\n",
              "       [737254],\n",
              "       [737683],\n",
              "       [736992],\n",
              "       [737319],\n",
              "       [737718],\n",
              "       [737292],\n",
              "       [737258],\n",
              "       [736789],\n",
              "       [737687],\n",
              "       [736860],\n",
              "       [737180],\n",
              "       [736893],\n",
              "       [737328],\n",
              "       [737568],\n",
              "       [737066],\n",
              "       [737001],\n",
              "       [737307],\n",
              "       [736841],\n",
              "       [736817],\n",
              "       [737134],\n",
              "       [737458],\n",
              "       [736919],\n",
              "       [736860],\n",
              "       [737230],\n",
              "       [736812],\n",
              "       [737049],\n",
              "       [736840],\n",
              "       [737354],\n",
              "       [737330],\n",
              "       [737328],\n",
              "       [736774],\n",
              "       [737448],\n",
              "       [737230],\n",
              "       [737198],\n",
              "       [737174],\n",
              "       [737604],\n",
              "       [737481],\n",
              "       [736701],\n",
              "       [736806],\n",
              "       [737132],\n",
              "       [737689],\n",
              "       [737232],\n",
              "       [737227],\n",
              "       [737185],\n",
              "       [736871],\n",
              "       [737774],\n",
              "       [737093],\n",
              "       [737511],\n",
              "       [737109],\n",
              "       [737168],\n",
              "       [737033],\n",
              "       [736803],\n",
              "       [737039],\n",
              "       [737204],\n",
              "       [737593],\n",
              "       [736941],\n",
              "       [737397],\n",
              "       [736932],\n",
              "       [737769],\n",
              "       [737002],\n",
              "       [736882],\n",
              "       [737088],\n",
              "       [737222],\n",
              "       [736833],\n",
              "       [737118],\n",
              "       [737554],\n",
              "       [737608],\n",
              "       [736713],\n",
              "       [736719],\n",
              "       [736886],\n",
              "       [737572],\n",
              "       [736818],\n",
              "       [737100],\n",
              "       [737746],\n",
              "       [737006],\n",
              "       [736991],\n",
              "       [737441],\n",
              "       [736943],\n",
              "       [736770],\n",
              "       [737199],\n",
              "       [737719],\n",
              "       [737222],\n",
              "       [737501],\n",
              "       [737385],\n",
              "       [737169],\n",
              "       [736979],\n",
              "       [736783],\n",
              "       [737489],\n",
              "       [737016],\n",
              "       [737431],\n",
              "       [737604],\n",
              "       [736927],\n",
              "       [736818],\n",
              "       [737262],\n",
              "       [737027],\n",
              "       [737296],\n",
              "       [737522],\n",
              "       [737414],\n",
              "       [737750],\n",
              "       [737730],\n",
              "       [737006],\n",
              "       [737708],\n",
              "       [736812],\n",
              "       [737223],\n",
              "       [737370],\n",
              "       [737512],\n",
              "       [736747],\n",
              "       [737114],\n",
              "       [736881],\n",
              "       [737719],\n",
              "       [736776],\n",
              "       [737450],\n",
              "       [736794],\n",
              "       [736697],\n",
              "       [736715],\n",
              "       [737302],\n",
              "       [737771],\n",
              "       [737596],\n",
              "       [736899],\n",
              "       [736960],\n",
              "       [737187],\n",
              "       [736987],\n",
              "       [736749],\n",
              "       [737083],\n",
              "       [737098],\n",
              "       [737350],\n",
              "       [736708],\n",
              "       [737780],\n",
              "       [737499],\n",
              "       [737504],\n",
              "       [737210],\n",
              "       [737543],\n",
              "       [736979],\n",
              "       [736737],\n",
              "       [737494],\n",
              "       [737720],\n",
              "       [737644],\n",
              "       [737786],\n",
              "       [736736],\n",
              "       [737354],\n",
              "       [737074],\n",
              "       [737039],\n",
              "       [737023],\n",
              "       [737290],\n",
              "       [737103],\n",
              "       [737278],\n",
              "       [737648],\n",
              "       [737056],\n",
              "       [737369],\n",
              "       [736811],\n",
              "       [737288],\n",
              "       [737658],\n",
              "       [736806],\n",
              "       [736933],\n",
              "       [736855],\n",
              "       [736709],\n",
              "       [737376],\n",
              "       [737381],\n",
              "       [737544],\n",
              "       [737635],\n",
              "       [737538],\n",
              "       [737019],\n",
              "       [737447],\n",
              "       [737662],\n",
              "       [737375],\n",
              "       [736705],\n",
              "       [737583],\n",
              "       [737675],\n",
              "       [737788],\n",
              "       [737009],\n",
              "       [737047],\n",
              "       [737242],\n",
              "       [736957],\n",
              "       [736985],\n",
              "       [737100],\n",
              "       [737747],\n",
              "       [737600],\n",
              "       [737252],\n",
              "       [737032],\n",
              "       [737051],\n",
              "       [737084],\n",
              "       [736893],\n",
              "       [737343],\n",
              "       [737782],\n",
              "       [736924],\n",
              "       [737688],\n",
              "       [737544],\n",
              "       [737036],\n",
              "       [737540],\n",
              "       [736813],\n",
              "       [737213],\n",
              "       [737214],\n",
              "       [737625],\n",
              "       [736816],\n",
              "       [737297],\n",
              "       [737060],\n",
              "       [737259],\n",
              "       [737092],\n",
              "       [737075],\n",
              "       [737788],\n",
              "       [737309],\n",
              "       [737742],\n",
              "       [737241],\n",
              "       [736968],\n",
              "       [736767],\n",
              "       [737130],\n",
              "       [737105],\n",
              "       [737175],\n",
              "       [737685],\n",
              "       [737695],\n",
              "       [737119],\n",
              "       [737765],\n",
              "       [737678]])"
            ]
          },
          "metadata": {
            "tags": []
          },
          "execution_count": 56
        }
      ]
    },
    {
      "cell_type": "code",
      "metadata": {
        "colab": {
          "base_uri": "https://localhost:8080/"
        },
        "id": "iHNoXjTZrgHN",
        "outputId": "32765be5-499e-4bf8-9527-43dd9d2ddc55"
      },
      "source": [
        "y_test[:]"
      ],
      "execution_count": 57,
      "outputs": [
        {
          "output_type": "execute_result",
          "data": {
            "text/plain": [
              "array([281., 191., 434., 278., 486., 384., 327.,  52., 390.,  70., 439.,\n",
              "       355., 255., 309., 397., 388., 343., 356., 373., 239., 386., 245.,\n",
              "       244., 225., 201., 202., 439., 119.,  93., 292., 397., 386., 175.,\n",
              "       499., 494., 467., 324.,  83., 136., 399.,  72., 105.,  58., 149.,\n",
              "       451., 164.,  98., 235., 281., 271., 169., 227., 263., 241., 428.,\n",
              "       266., 151., 454., 391.,  58., 343., 418., 418., 420., 206., 315.,\n",
              "       365., 158.,  60., 237., 337.,  90., 421., 147.,  92., 184., 230.,\n",
              "       206., 393., 446., 296., 484., 427., 132., 406., 228., 237., 346.,\n",
              "       127., 116., 370., 367., 131., 476., 428., 244., 162., 112., 250.,\n",
              "       327.])"
            ]
          },
          "metadata": {
            "tags": []
          },
          "execution_count": 57
        }
      ]
    },
    {
      "cell_type": "code",
      "metadata": {
        "colab": {
          "base_uri": "https://localhost:8080/"
        },
        "id": "j3TSf4eJroNy",
        "outputId": "0a6dfa58-43a0-462a-8b69-83e15cd0709d"
      },
      "source": [
        "from sklearn.ensemble import RandomForestRegressor\r\n",
        "regressor = RandomForestRegressor(n_estimators=100,random_state=0)\r\n",
        "regressor.fit(x_train,y_train)"
      ],
      "execution_count": 63,
      "outputs": [
        {
          "output_type": "execute_result",
          "data": {
            "text/plain": [
              "RandomForestRegressor(bootstrap=True, ccp_alpha=0.0, criterion='mse',\n",
              "                      max_depth=None, max_features='auto', max_leaf_nodes=None,\n",
              "                      max_samples=None, min_impurity_decrease=0.0,\n",
              "                      min_impurity_split=None, min_samples_leaf=1,\n",
              "                      min_samples_split=2, min_weight_fraction_leaf=0.0,\n",
              "                      n_estimators=100, n_jobs=None, oob_score=False,\n",
              "                      random_state=0, verbose=0, warm_start=False)"
            ]
          },
          "metadata": {
            "tags": []
          },
          "execution_count": 63
        }
      ]
    },
    {
      "cell_type": "code",
      "metadata": {
        "id": "Q5nsWm2Pn_kS"
      },
      "source": [
        "#print(regressor.predict(x_test[0:5]))\r\n",
        "y_pred = regressor.predict(x_test)\r\n"
      ],
      "execution_count": 64,
      "outputs": []
    },
    {
      "cell_type": "code",
      "metadata": {
        "colab": {
          "base_uri": "https://localhost:8080/"
        },
        "id": "e6vSEXsGtnmZ",
        "outputId": "e1ebcef4-f914-4664-b62e-085c2d8d4441"
      },
      "source": [
        "from sklearn.metrics import mean_squared_error\r\n",
        "print(mean_squared_error(y_test,y_pred) , \"%\")"
      ],
      "execution_count": 65,
      "outputs": [
        {
          "output_type": "stream",
          "text": [
            "25150.346029942106 %\n"
          ],
          "name": "stdout"
        }
      ]
    },
    {
      "cell_type": "code",
      "metadata": {
        "id": "p28A7PngliQa"
      },
      "source": [
        ""
      ],
      "execution_count": null,
      "outputs": []
    }
  ]
}